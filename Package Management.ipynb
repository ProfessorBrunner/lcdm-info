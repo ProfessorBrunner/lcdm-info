{
 "metadata": {
  "name": "",
  "signature": "sha256:d2fa0de4704ab449a15cda424d234faea3ad7a704401e992c1942d456ca0e31e"
 },
 "nbformat": 3,
 "nbformat_minor": 0,
 "worksheets": [
  {
   "cells": [
    {
     "cell_type": "code",
     "collapsed": false,
     "input": [
      "# This is for git version commit\n",
      "\n",
      "!git add Package\\ Management.ipynb\n",
      "!git commit -m \"created this page for package tracking\" # you can change that whenever you want to commit with message\n",
      "!git push"
     ],
     "language": "python",
     "metadata": {},
     "outputs": [
      {
       "output_type": "stream",
       "stream": "stdout",
       "text": [
        "[master 8c15ca3] created this page for package tracking\r\n",
        " 1 file changed, 93 insertions(+), 66 deletions(-)\r\n"
       ]
      },
      {
       "output_type": "stream",
       "stream": "stdout",
       "text": [
        "warning: push.default is unset; its implicit value is changing in\r\n",
        "Git 2.0 from 'matching' to 'simple'. To squelch this message\r\n",
        "and maintain the current behavior after the default changes, use:\r\n",
        "\r\n",
        "  git config --global push.default matching\r\n",
        "\r\n",
        "To squelch this message and adopt the new behavior now, use:\r\n",
        "\r\n",
        "  git config --global push.default simple\r\n",
        "\r\n",
        "When push.default is set to 'matching', git will push local branches\r\n",
        "to the remote branches that already exist with the same name.\r\n",
        "\r\n",
        "In Git 2.0, Git will default to the more conservative 'simple'\r\n",
        "behavior, which only pushes the current branch to the corresponding\r\n",
        "remote branch that 'git pull' uses to update the current branch.\r\n",
        "\r\n",
        "See 'git help config' and search for 'push.default' for further information.\r\n",
        "(the 'simple' mode was introduced in Git 1.7.11. Use the similar mode\r\n",
        "'current' instead of 'simple' if you sometimes use older versions of Git)\r\n",
        "\r\n"
       ]
      },
      {
       "output_type": "stream",
       "stream": "stdout",
       "text": [
        "Counting objects: 5, done.\r\n",
        "Delta compression using up to 4 threads.\r\n",
        "Compressing objects:  33% (1/3)   \r",
        "Compressing objects:  66% (2/3)   \r",
        "Compressing objects: 100% (3/3)   \r",
        "Compressing objects: 100% (3/3), done.\r\n",
        "Writing objects:  33% (1/3)   \r",
        "Writing objects:  66% (2/3)   \r",
        "Writing objects: 100% (3/3)   \r",
        "Writing objects: 100% (3/3), 1.32 KiB | 0 bytes/s, done.\r\n",
        "Total 3 (delta 2), reused 0 (delta 0)\r\n"
       ]
      },
      {
       "output_type": "stream",
       "stream": "stdout",
       "text": [
        "To git@github.com:ProfessorBrunner/lcdm-info.git\r\n",
        "   a862956..8c15ca3  master -> master\r\n"
       ]
      }
     ],
     "prompt_number": 4
    },
    {
     "cell_type": "markdown",
     "metadata": {},
     "source": [
      "Configuration of python package\n",
      "=================================\n",
      "\n",
      "**If you added something to the list please add to the list below**\n",
      "\n",
      "Unfortunately the ipython notebook is opened under the root, which means the ipython notebook can do anything under the root authority. It seems to be a very dangerous thing, so people who use shell prompt shall be extremely careful.\n",
      "\n",
      "At the sametime, it provides a very convinient way of installing `python package`. The recommended way is to use `pip`. It is also advisable to create your own virtual environment with virtualenv and do experiment on that.\n",
      "\n",
      "And below are currently installed packages.\n",
      "\n",
      "Currently I am using [Anaconda](https://store.continuum.io/cshop/anaconda/) so that most packages for scientific computing shall be installed already."
     ]
    },
    {
     "cell_type": "code",
     "collapsed": false,
     "input": [
      "! pip list"
     ],
     "language": "python",
     "metadata": {},
     "outputs": [
      {
       "output_type": "stream",
       "stream": "stdout",
       "text": [
        "argcomplete (0.6.7)\r\n",
        "astropy (0.3.2)\r\n",
        "atom (0.3.7)\r\n",
        "backports.ssl-match-hostname (3.4.0.2)\r\n",
        "beautifulsoup4 (4.3.1)\r\n",
        "binstar (0.5.3)\r\n",
        "bitarray (0.8.1)\r\n",
        "blaze (0.5)\r\n",
        "blz (0.6.2)\r\n",
        "bokeh (0.4.4)\r\n",
        "boto (2.28.0)\r\n",
        "casuarius (1.1)\r\n",
        "cdecimal (2.3)\r\n",
        "chaco (4.4.1)\r\n",
        "colorama (0.2.7)\r\n",
        "conda (3.5.5)\r\n",
        "conda-build (1.3.5)\r\n",
        "configobj (5.0.5)\r\n",
        "cubes (0.10.2)\r\n",
        "Cython (0.20.1)\r\n",
        "DataShape (0.2)\r\n",
        "docutils (0.11)\r\n",
        "enable (4.3.0)\r\n",
        "enaml (0.9.1)\r\n",
        "Flask (0.10.1)\r\n",
        "future (0.12.1)\r\n",
        "gevent (1.0.1)\r\n",
        "gevent-websocket (0.9.3)\r\n",
        "greenlet (0.4.2)\r\n",
        "grin (1.2.1)\r\n",
        "h5py (2.3.0)\r\n",
        "ipython (2.1.0)\r\n",
        "itsdangerous (0.24)\r\n",
        "jdcal (1.0)\r\n",
        "Jinja2 (2.7.2)\r\n",
        "kiwisolver (0.1.2)\r\n",
        "launcher (0.1.5)\r\n",
        "llvmpy (0.12.6)\r\n",
        "lxml (3.3.5)\r\n",
        "MarkupSafe (0.18)\r\n",
        "matplotlib (1.3.1)\r\n",
        "mock (1.0.1)\r\n",
        "mpi4py (1.3)\r\n",
        "multipledispatch (0.4.3)\r\n",
        "networkx (1.8.1)\r\n",
        "nltk (2.0.4)\r\n",
        "nose (1.3.3)\r\n",
        "numba (0.13.2)\r\n",
        "numexpr (2.3.1)\r\n",
        "numpy (1.8.1)\r\n",
        "openpyxl (1.8.5)\r\n",
        "pandas (0.14.0)\r\n",
        "patsy (0.2.1)\r\n",
        "pep8 (1.5.6)\r\n",
        "PIL (1.1.7)\r\n",
        "pip (1.5.6)\r\n",
        "ply (3.4)\r\n",
        "psutil (2.1.1)\r\n",
        "py (1.4.20)\r\n",
        "pycosat (0.6.1)\r\n",
        "pycparser (2.10)\r\n",
        "pycrypto (2.6.1)\r\n",
        "pycurl (7.19.3.1)\r\n",
        "pyface (4.4.0)\r\n",
        "pyflakes (0.8.1)\r\n",
        "Pygments (1.6)\r\n",
        "pyparsing (2.0.1)\r\n",
        "pytest (2.5.2)\r\n",
        "python-dateutil (1.5)\r\n",
        "pytz (2014.3)\r\n",
        "PyYAML (3.11)\r\n",
        "pyzmq (14.3.0)\r\n",
        "redis (2.9.1)\r\n",
        "requests (2.3.0)\r\n",
        "rope (0.9.4)\r\n",
        "runipy (0.1.0)\r\n",
        "scikit-image (0.10.0)\r\n",
        "scikit-learn (0.14.1)\r\n",
        "scipy (0.14.0)\r\n",
        "setuptools (3.6)\r\n",
        "six (1.6.1)\r\n",
        "Sphinx (1.2.2)\r\n",
        "spyder (2.3.0rc)\r\n",
        "SQLAlchemy (0.9.4)\r\n",
        "statsmodels (0.5.0)\r\n",
        "sympy (0.7.5)\r\n",
        "tables (3.1.1)\r\n",
        "Theano (0.6.0)\r\n",
        "tornado (3.2.1)\r\n",
        "traits (4.4.0)\r\n",
        "traitsui (4.4.0)\r\n",
        "ujson (1.33)\r\n",
        "Werkzeug (0.9.6)\r\n",
        "wsgiref (0.1.2)\r\n",
        "xlrd (0.9.3)\r\n",
        "XlsxWriter (0.5.5)\r\n",
        "xlwt (0.7.5)\r\n"
       ]
      }
     ],
     "prompt_number": 1
    }
   ],
   "metadata": {}
  }
 ]
}