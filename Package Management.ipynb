{
 "metadata": {
  "name": "",
  "signature": "sha256:5662869ffcaa60892b9347e5b59fa60e08b88b00c21482f79a7f68eb55d88a8e"
 },
 "nbformat": 3,
 "nbformat_minor": 0,
 "worksheets": [
  {
   "cells": [
    {
     "cell_type": "code",
     "collapsed": false,
     "input": [
      "# This is for git version commit\n",
      "\n",
      "!git add Package\\ Management.ipynb\n",
      "!git commit -m \"created \" # you can change that whenever you want to commit with "
     ],
     "language": "python",
     "metadata": {},
     "outputs": [
      {
       "output_type": "stream",
       "stream": "stdout",
       "text": [
        "Nothing specified, nothing added.\r\n",
        "Maybe you wanted to say 'git add .'?\r\n"
       ]
      }
     ],
     "prompt_number": 7
    },
    {
     "cell_type": "markdown",
     "metadata": {},
     "source": [
      "Configuration of python package\n",
      "=================================\n",
      "\n",
      "**If you added something to the list please add to the list below**\n",
      "\n",
      "Unfortunately the ipython notebook is opened under the root, which means the ipython notebook can do anything under the root authority. It seems to be a very dangerous thing, so people who use shell prompt shall be extremely careful.\n",
      "\n",
      "At the sametime, it provides a very convinient way of installing `python package`. The recommended way is to use `pip`. It is also advisable to create your own virtual environment with virtualenv and do experiment on that.\n",
      "\n",
      "And below are currently installed packages.\n",
      "\n",
      "TODO: it is also desirable to open another Anaconda ipython notebook at some point. [Anaconda](https://store.continuum.io/cshop/anaconda/) is also installed."
     ]
    },
    {
     "cell_type": "markdown",
     "metadata": {},
     "source": [
      "List of my manual install\n",
      "\n",
      "+ numpy\n",
      "+ scipy\n",
      "+ matplotlib\n",
      "+ scikit-learn\n"
     ]
    },
    {
     "cell_type": "code",
     "collapsed": false,
     "input": [
      "! pip list"
     ],
     "language": "python",
     "metadata": {},
     "outputs": [
      {
       "output_type": "stream",
       "stream": "stdout",
       "text": [
        "apt-xapian-index (0.45)\r\n",
        "argparse (1.2.1)\r\n",
        "backports.ssl-match-hostname (3.4.0.2)\r\n",
        "certifi (14.05.14)\r\n",
        "chardet (2.0.1)\r\n",
        "Cheetah (2.4.4)\r\n",
        "cloud-init (0.7.5)\r\n",
        "colorama (0.2.5)\r\n",
        "configobj (4.7.2)\r\n",
        "docutils (0.12)\r\n",
        "dulwich (0.9.7)\r\n",
        "funky (0.0.2)\r\n",
        "gittle (0.4.0)\r\n",
        "html5lib (0.999)\r\n",
        "ipython (2.3.0)\r\n",
        "Jinja2 (2.7.3)\r\n",
        "jsonpatch (1.3)\r\n",
        "jsonpointer (1.0)\r\n",
        "Landscape-Client (14.01)\r\n",
        "MarkupSafe (0.23)\r\n",
        "matplotlib (1.3.1)\r\n",
        "nose (1.3.4)\r\n",
        "numpy (1.9.1)\r\n",
        "numpydoc (0.5)\r\n",
        "oauth (1.0.1)\r\n",
        "PAM (0.4.2)\r\n",
        "paramiko (1.10.0)\r\n",
        "Pillow (2.3.0)\r\n",
        "pip (1.5.4)\r\n",
        "prettytable (0.7.2)\r\n",
        "pycrypto (2.6)\r\n",
        "pycurl (7.19.3)\r\n",
        "Pygments (1.6)\r\n",
        "pymc (2.3.3)\r\n",
        "pyOpenSSL (0.13)\r\n",
        "pyparsing (2.0.1)\r\n",
        "pyserial (2.6)\r\n",
        "python-apt (0.9.3.5)\r\n",
        "python-dateutil (1.5)\r\n",
        "python-debian (0.1.21-nmu2ubuntu2)\r\n",
        "pytz (2012c)\r\n",
        "PyYAML (3.10)\r\n",
        "pyzmq (14.4.0)\r\n",
        "requests (2.2.1)\r\n",
        "scikit-learn (0.15.2)\r\n",
        "scipy (0.14.0)\r\n",
        "setuptools (3.3)\r\n",
        "six (1.5.2)\r\n",
        "Sphinx (1.2.3)\r\n",
        "ssh-import-id (3.21)\r\n",
        "tornado (4.0.2)\r\n",
        "Twisted-Core (13.2.0)\r\n",
        "Twisted-Names (13.2.0)\r\n",
        "Twisted-Web (13.2.0)\r\n",
        "urllib3 (1.7.1)\r\n",
        "virtualenv (1.11.6)\r\n",
        "wsgiref (0.1.2)\r\n",
        "zope.interface (4.0.5)\r\n"
       ]
      }
     ],
     "prompt_number": 8
    }
   ],
   "metadata": {}
  }
 ]
}