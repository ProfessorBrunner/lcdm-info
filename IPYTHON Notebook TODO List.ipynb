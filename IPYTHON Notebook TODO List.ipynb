{
 "metadata": {
  "name": "",
  "signature": "sha256:83a7062c5b6ec2501dcdadf88c75c55b484fdecc4f963452ccf69dcd363cb07c"
 },
 "nbformat": 3,
 "nbformat_minor": 0,
 "worksheets": [
  {
   "cells": [
    {
     "cell_type": "code",
     "collapsed": false,
     "input": [
      "!git add IPYTHON\\ Notebook\\ TODO\\ List.ipynb\n",
      "!git commit -m \"created the Notebook Todo List\" # please make it meaningful every time for commit\n",
      "!git install "
     ],
     "language": "python",
     "metadata": {},
     "outputs": []
    }
   ],
   "metadata": {}
  }
 ]
}