{
 "metadata": {
  "name": "",
  "signature": "sha256:e6176d93d9bb54e6a0745ff60c3d4321a451b5f3bf589f65bf7e126cd193db08"
 },
 "nbformat": 3,
 "nbformat_minor": 0,
 "worksheets": [
  {
   "cells": [
    {
     "cell_type": "markdown",
     "metadata": {},
     "source": [
      "Version Control for the Ipython notebook\n",
      "=========================================\n",
      "\n",
      "This notebook is a public notebook runs on the Openstack vcloud. When it presents a huge advantage of collaboration and sharing, it also requires version management to prevent unwanted deletion and alternation on code base. Versiona control, and in this case **git** should be desirable\n",
      "\n",
      "Currently, I will use my github account as the default setting for the server and it is possible to commit as desired other users but it also requires some extra steps that I think could only be done manually.\n",
      "\n",
      "It shall be very straight forward for those who has used git in command line since ipython notebook provides every magic shell. For those who does not familiar, the sources of such tutorial are abundant and this might be [one of them](https://www.atlassian.com/git/tutorials/) \n",
      "\n",
      "I also provided an example below to show the basic command. However, since it is only meant to commit once, please __do not execute the code below again__.\n",
      "\n",
      "Besides, sometimes output for version control is not desirable, so before commit, it might be better to `Cell`->`All Output`->`Clear` before commit."
     ]
    },
    {
     "cell_type": "code",
     "collapsed": false,
     "input": [
      "!git status"
     ],
     "language": "python",
     "metadata": {},
     "outputs": []
    },
    {
     "cell_type": "code",
     "collapsed": false,
     "input": [
      "!git add Version\\ Control.ipynb\n",
      "!git commit -m \"Added version control document\"\n",
      "!git push"
     ],
     "language": "python",
     "metadata": {},
     "outputs": []
    }
   ],
   "metadata": {}
  }
 ]
}