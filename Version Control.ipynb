{
 "metadata": {
  "name": "",
  "signature": "sha256:9fdbbaba5fdc0e8441dff0ebedaa8408837aff3d0ab80d01cf028718784b14f0"
 },
 "nbformat": 3,
 "nbformat_minor": 0,
 "worksheets": [
  {
   "cells": [
    {
     "cell_type": "markdown",
     "metadata": {},
     "source": [
      "Version Control for the Ipython notebook\n",
      "=========================================\n",
      "\n",
      "This notebook is a public notebook runs on the Openstack vcloud. When it presents a huge advantage of collaboration and sharing, it also requires version management to prevent unwanted deletion and alternation on code base. Versiona control, and in this case **git** should be desirable\n",
      "\n",
      "Currently, I will use my github account as the default setting for the server and it is possible to commit as desired other users but it also requires some extra steps that I think could only be done manually.\n",
      "\n",
      "It shall be very straight forward for those who has used git in command line since ipython notebook provides every magic shell. For those who does not familiar, the sources of such tutorial are abundant and this might be [one of them](https://www.atlassian.com/git/tutorials/) \n",
      "\n",
      "I also provided an example below to show the basic command. However, since it is only meant to commit once, please __do not execute the code below again__.\n",
      "\n",
      "Besides, sometimes output for version control is not desirable, so before commit, it might be better to `Cell`->`All Output`->`Clear` before commit."
     ]
    },
    {
     "cell_type": "code",
     "collapsed": false,
     "input": [
      "!git status"
     ],
     "language": "python",
     "metadata": {},
     "outputs": [
      {
       "output_type": "stream",
       "stream": "stdout",
       "text": [
        "On branch master\r\n",
        "Your branch is ahead of 'origin/master' by 1 commit.\r\n",
        "  (use \"git push\" to publish your local commits)\r\n",
        "\r\n",
        "Untracked files:\r\n",
        "  (use \"git add <file>...\" to include in what will be committed)\r\n",
        "\r\n",
        "\t\u001b[31m.ipynb_checkpoints/\u001b[m\r\n",
        "\t\u001b[31mlog\u001b[m\r\n",
        "\r\n",
        "nothing added to commit but untracked files present (use \"git add\" to track)\r\n"
       ]
      }
     ],
     "prompt_number": 4
    },
    {
     "cell_type": "code",
     "collapsed": false,
     "input": [
      "!git add Version\\ Control.ipynb\n",
      "!git commit -m \"Added version control document\"\n",
      "!git push"
     ],
     "language": "python",
     "metadata": {},
     "outputs": [
      {
       "output_type": "stream",
       "stream": "stdout",
       "text": [
        "On branch master\r\n",
        "Your branch is ahead of 'origin/master' by 1 commit.\r\n",
        "  (use \"git push\" to publish your local commits)\r\n",
        "\r\n",
        "Untracked files:\r\n",
        "\t\u001b[31m.ipynb_checkpoints/\u001b[m\r\n",
        "\t\u001b[31mlog\u001b[m\r\n",
        "\r\n",
        "nothing added to commit but untracked files present\r\n"
       ]
      },
      {
       "output_type": "stream",
       "stream": "stdout",
       "text": [
        "warning: push.default is unset; its implicit value is changing in\r\n",
        "Git 2.0 from 'matching' to 'simple'. To squelch this message\r\n",
        "and maintain the current behavior after the default changes, use:\r\n",
        "\r\n",
        "  git config --global push.default matching\r\n",
        "\r\n",
        "To squelch this message and adopt the new behavior now, use:\r\n",
        "\r\n",
        "  git config --global push.default simple\r\n",
        "\r\n",
        "When push.default is set to 'matching', git will push local branches\r\n",
        "to the remote branches that already exist with the same name.\r\n",
        "\r\n",
        "In Git 2.0, Git will default to the more conservative 'simple'\r\n",
        "behavior, which only pushes the current branch to the corresponding\r\n",
        "remote branch that 'git pull' uses to update the current branch.\r\n",
        "\r\n",
        "See 'git help config' and search for 'push.default' for further information.\r\n",
        "(the 'simple' mode was introduced in Git 1.7.11. Use the similar mode\r\n",
        "'current' instead of 'simple' if you sometimes use older versions of Git)\r\n",
        "\r\n"
       ]
      },
      {
       "output_type": "stream",
       "stream": "stdout",
       "text": [
        "Permission denied (publickey).\r",
        "\r\n",
        "fatal: Could not read from remote repository.\r\n",
        "\r\n",
        "Please make sure you have the correct access rights\r\n",
        "and the repository exists.\r\n"
       ]
      }
     ],
     "prompt_number": 3
    }
   ],
   "metadata": {}
  }
 ]
}