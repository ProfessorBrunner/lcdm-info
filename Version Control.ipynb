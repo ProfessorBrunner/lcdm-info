{
 "metadata": {
  "name": "",
  "signature": "sha256:61bdda27a52719def060d9f3c560d52d5fd5b663fec0ff7f3972971b3d7ac4f8"
 },
 "nbformat": 3,
 "nbformat_minor": 0,
 "worksheets": [
  {
   "cells": [
    {
     "cell_type": "markdown",
     "metadata": {},
     "source": [
      "Version Control for the Ipython notebook\n",
      "=========================================\n",
      "\n",
      "This notebook is a public notebook runs on the Openstack vcloud. When the notebook presents a huge advantage for collaboration and code sharing, it may also requires version management to prevent unwanted deletion and changes on code base. We are goint to use version control, in this case **git**, within notebook rather than terminal. \n",
      "\n",
      "Currently, I am using my github account as the default setting for the server and it is possible to commit changes as desired other users but at the same time it requires some extra steps that increases another layer of complexity.\n",
      "\n",
      "It shall be very straight forward for those who have used git in command line before, since ipython notebook provides the magic shell almost identical to nomal shell. For those who does not familiar, the git tutorial recources online are abundant and this is [one of them](https://www.atlassian.com/git/tutorials/) \n",
      "\n",
      "I also provided an example below to show the basic command. However, since it is only meant to commit once, please __do not execute the code below again__.\n",
      "\n",
      "Besides, sometimes output for version control is not desirable, so before commit, it might be better to `Cell`->`All Output`->`Clear` before commit in case input (i.e. the producing code instead of result) is what we really want."
     ]
    },
    {
     "cell_type": "code",
     "collapsed": false,
     "input": [
      "!git status"
     ],
     "language": "python",
     "metadata": {},
     "outputs": [
      {
       "output_type": "stream",
       "stream": "stdout",
       "text": [
        "On branch master\r\n",
        "Your branch is up-to-date with 'origin/master'.\r\n",
        "\r\n",
        "Changes not staged for commit:\r\n",
        "  (use \"git add <file>...\" to update what will be committed)\r\n",
        "  (use \"git checkout -- <file>...\" to discard changes in working directory)\r\n",
        "\r\n",
        "\t\u001b[31mmodified:   Version Control.ipynb\u001b[m\r\n",
        "\r\n",
        "Untracked files:\r\n",
        "  (use \"git add <file>...\" to include in what will be committed)\r\n",
        "\r\n",
        "\t\u001b[31m.ipynb_checkpoints/\u001b[m\r\n",
        "\t\u001b[31mlog\u001b[m\r\n",
        "\r\n",
        "no changes added to commit (use \"git add\" and/or \"git commit -a\")\r\n"
       ]
      }
     ],
     "prompt_number": 20
    },
    {
     "cell_type": "code",
     "collapsed": false,
     "input": [
      "!git add Version\\ Control.ipynb \n",
      "!git commit -m \"Added version control document\"\n",
      "!git push"
     ],
     "language": "python",
     "metadata": {},
     "outputs": [
      {
       "output_type": "stream",
       "stream": "stdout",
       "text": [
        "[master ada3ca7] Added version control document\r\n",
        " 1 file changed, 55 insertions(+), 4435 deletions(-)\r\n",
        " rewrite Version Control.ipynb (99%)\r\n"
       ]
      },
      {
       "output_type": "stream",
       "stream": "stdout",
       "text": [
        "warning: push.default is unset; its implicit value is changing in\r\n",
        "Git 2.0 from 'matching' to 'simple'. To squelch this message\r\n",
        "and maintain the current behavior after the default changes, use:\r\n",
        "\r\n",
        "  git config --global push.default matching\r\n",
        "\r\n",
        "To squelch this message and adopt the new behavior now, use:\r\n",
        "\r\n",
        "  git config --global push.default simple\r\n",
        "\r\n",
        "When push.default is set to 'matching', git will push local branches\r\n",
        "to the remote branches that already exist with the same name.\r\n",
        "\r\n",
        "In Git 2.0, Git will default to the more conservative 'simple'\r\n",
        "behavior, which only pushes the current branch to the corresponding\r\n",
        "remote branch that 'git pull' uses to update the current branch.\r\n",
        "\r\n",
        "See 'git help config' and search for 'push.default' for further information.\r\n",
        "(the 'simple' mode was introduced in Git 1.7.11. Use the similar mode\r\n",
        "'current' instead of 'simple' if you sometimes use older versions of Git)\r\n",
        "\r\n"
       ]
      },
      {
       "output_type": "stream",
       "stream": "stdout",
       "text": [
        "Permission denied (publickey).\r",
        "\r\n",
        "fatal: Could not read from remote repository.\r\n",
        "\r\n",
        "Please make sure you have the correct access rights\r\n",
        "and the repository exists.\r\n"
       ]
      }
     ],
     "prompt_number": 1
    },
    {
     "cell_type": "code",
     "collapsed": false,
     "input": [
      "!ssh -vT git@github.com"
     ],
     "language": "python",
     "metadata": {},
     "outputs": [
      {
       "output_type": "stream",
       "stream": "stdout",
       "text": [
        "OpenSSH_6.6.1, OpenSSL 1.0.1f 6 Jan 2014\r",
        "\r\n",
        "debug1: Reading configuration data /etc/ssh/ssh_config\r",
        "\r\n",
        "debug1: /etc/ssh/ssh_config line 19: Applying options for *\r",
        "\r\n",
        "debug1: Connecting to github.com [192.30.252.128] port 22.\r",
        "\r\n"
       ]
      },
      {
       "output_type": "stream",
       "stream": "stdout",
       "text": [
        "debug1: Connection established.\r",
        "\r\n",
        "debug1: permanently_set_uid: 0/0\r",
        "\r\n",
        "debug1: identity file /root/.ssh/id_rsa type 1\r",
        "\r\n",
        "debug1: identity file /root/.ssh/id_rsa-cert type -1\r",
        "\r\n",
        "debug1: identity file /root/.ssh/id_dsa type -1\r",
        "\r\n",
        "debug1: identity file /root/.ssh/id_dsa-cert type -1\r",
        "\r\n",
        "debug1: identity file /root/.ssh/id_ecdsa type -1\r",
        "\r\n",
        "debug1: identity file /root/.ssh/id_ecdsa-cert type -1\r",
        "\r\n",
        "debug1: identity file /root/.ssh/id_ed25519 type -1\r",
        "\r\n",
        "debug1: identity file /root/.ssh/id_ed25519-cert type -1\r",
        "\r\n",
        "debug1: Enabling compatibility mode for protocol 2.0\r",
        "\r\n",
        "debug1: Local version string SSH-2.0-OpenSSH_6.6.1p1 Ubuntu-2ubuntu2\r",
        "\r\n",
        "debug1: Remote protocol version 2.0, remote software version libssh-0.6.0\r",
        "\r\n",
        "debug1: no match: libssh-0.6.0\r",
        "\r\n",
        "debug1: SSH2_MSG_KEXINIT sent\r",
        "\r\n",
        "debug1: SSH2_MSG_KEXINIT received\r",
        "\r\n",
        "debug1: kex: server->client aes128-ctr hmac-sha1 none\r",
        "\r\n",
        "debug1: kex: client->server aes128-ctr hmac-sha1 none\r",
        "\r\n",
        "debug1: sending SSH2_MSG_KEX_ECDH_INIT\r",
        "\r\n",
        "debug1: expecting SSH2_MSG_KEX_ECDH_REPLY\r",
        "\r\n"
       ]
      },
      {
       "output_type": "stream",
       "stream": "stdout",
       "text": [
        "debug1: Server host key: RSA 16:27:ac:a5:76:28:2d:36:63:1b:56:4d:eb:df:a6:48\r",
        "\r\n",
        "debug1: Host 'github.com' is known and matches the RSA host key.\r",
        "\r\n",
        "debug1: Found key in /root/.ssh/known_hosts:1\r",
        "\r\n",
        "debug1: ssh_rsa_verify: signature correct\r",
        "\r\n",
        "debug1: SSH2_MSG_NEWKEYS sent\r",
        "\r\n",
        "debug1: expecting SSH2_MSG_NEWKEYS\r",
        "\r\n"
       ]
      },
      {
       "output_type": "stream",
       "stream": "stdout",
       "text": [
        "debug1: SSH2_MSG_NEWKEYS received\r",
        "\r\n",
        "debug1: Roaming not allowed by server\r",
        "\r\n",
        "debug1: SSH2_MSG_SERVICE_REQUEST sent\r",
        "\r\n",
        "debug1: SSH2_MSG_SERVICE_ACCEPT received\r",
        "\r\n"
       ]
      },
      {
       "output_type": "stream",
       "stream": "stdout",
       "text": [
        "debug1: Authentications that can continue: publickey\r",
        "\r\n",
        "debug1: Next authentication method: publickey\r",
        "\r\n",
        "debug1: Offering RSA public key: /root/.ssh/id_rsa\r",
        "\r\n",
        "debug1: Server accepts key: pkalg ssh-rsa blen 279\r",
        "\r\n",
        "debug1: key_parse_private2: missing begin marker\r",
        "\r\n",
        "debug1: read PEM private key done: type RSA\r",
        "\r\n"
       ]
      },
      {
       "output_type": "stream",
       "stream": "stdout",
       "text": [
        "debug1: Authentication succeeded (publickey).\r",
        "\r\n",
        "Authenticated to github.com ([192.30.252.128]:22).\r",
        "\r\n",
        "debug1: channel 0: new [client-session]\r",
        "\r\n",
        "debug1: Entering interactive session.\r",
        "\r\n",
        "debug1: Sending environment.\r",
        "\r\n",
        "debug1: Sending env LC_TIME = it_IT.UTF-8\r",
        "\r\n",
        "debug1: Sending env LC_MONETARY = it_IT.UTF-8\r",
        "\r\n",
        "debug1: Sending env LC_CTYPE = it_IT.UTF-8\r",
        "\r\n",
        "debug1: Sending env LC_COLLATE = it_IT.UTF-8\r",
        "\r\n",
        "debug1: Sending env LANG = en_US.UTF-8\r",
        "\r\n",
        "debug1: Sending env LC_MESSAGES = it_IT.UTF-8\r",
        "\r\n",
        "debug1: Sending env LC_ALL = \r",
        "\r\n",
        "debug1: Sending env LC_NUMERIC = it_IT.UTF-8\r",
        "\r\n"
       ]
      },
      {
       "output_type": "stream",
       "stream": "stdout",
       "text": [
        "debug1: client_input_channel_req: channel 0 rtype exit-status reply 0\r",
        "\r\n",
        "Hi DarwinSenior! You've successfully authenticated, but GitHub does not provide shell access.\r\n",
        "debug1: channel 0: free: client-session, nchannels 1\r",
        "\r\n",
        "Transferred: sent 3728, received 1784 bytes, in 0.1 seconds\r",
        "\r\n",
        "Bytes per second: sent 40476.4, received 19369.6\r",
        "\r\n",
        "debug1: Exit status 1\r",
        "\r\n"
       ]
      }
     ],
     "prompt_number": 3
    }
   ],
   "metadata": {}
  }
 ]
}