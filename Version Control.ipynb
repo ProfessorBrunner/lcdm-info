{
 "metadata": {
  "name": "",
  "signature": "sha256:7722b6956557f4d60617a38922543882ea277dbe08d0c2c4b5ce4106b8780ce7"
 },
 "nbformat": 3,
 "nbformat_minor": 0,
 "worksheets": [
  {
   "cells": [
    {
     "cell_type": "markdown",
     "metadata": {},
     "source": [
      "Version Control for the Ipython notebook\n",
      "=========================================\n",
      "\n",
      "This notebook is a public notebook runs on the Openstack vcloud. When the notebook presents a huge advantage for collaboration and code sharing, it may also requires version management to prevent unwanted deletion and changes on code base. We are goint to use version control, in this case **git**, within notebook rather than terminal. \n",
      "\n",
      "Currently, I am using my github account as the default setting for the server and it is possible to commit changes as desired other users but at the same time it requires some extra steps that increases another layer of complexity.\n",
      "\n",
      "It shall be very straight forward for those who have used git in command line before, since ipython notebook provides the magic shell almost identical to nomal shell. For those who does not familiar, the git tutorial recources online are abundant and this is [one of them](https://www.atlassian.com/git/tutorials/) \n",
      "\n",
      "I also provided an example below to show the basic command. However, since it is only meant to commit once, please __do not execute the code below again__.\n",
      "\n",
      "Besides, sometimes output for version control is not desirable, so before commit, it might be better to `Cell`->`All Output`->`Clear` before commit in case input (i.e. the producing code instead of result) is what we really want."
     ]
    },
    {
     "cell_type": "code",
     "collapsed": false,
     "input": [
      "!git status"
     ],
     "language": "python",
     "metadata": {},
     "outputs": [
      {
       "output_type": "stream",
       "stream": "stdout",
       "text": [
        "On branch master\r\n",
        "Your branch is up-to-date with 'origin/master'.\r\n",
        "\r\n",
        "Changes not staged for commit:\r\n",
        "  (use \"git add <file>...\" to update what will be committed)\r\n",
        "  (use \"git checkout -- <file>...\" to discard changes in working directory)\r\n",
        "\r\n",
        "\t\u001b[31mmodified:   Version Control.ipynb\u001b[m\r\n",
        "\r\n",
        "Untracked files:\r\n",
        "  (use \"git add <file>...\" to include in what will be committed)\r\n",
        "\r\n",
        "\t\u001b[31m.ipynb_checkpoints/\u001b[m\r\n",
        "\t\u001b[31mlog\u001b[m\r\n",
        "\r\n",
        "no changes added to commit (use \"git add\" and/or \"git commit -a\")\r\n"
       ]
      }
     ],
     "prompt_number": 6
    },
    {
     "cell_type": "code",
     "collapsed": false,
     "input": [
      "!git add Version\\ Control.ipynb \n",
      "!git commit -m \"Added version control document\"\n",
      "!git push"
     ],
     "language": "python",
     "metadata": {},
     "outputs": [
      {
       "output_type": "stream",
       "stream": "stdout",
       "text": [
        "[master 3a68e19] Added version control document\r\n",
        " 1 file changed, 253 insertions(+), 8 deletions(-)\r\n"
       ]
      },
      {
       "output_type": "stream",
       "stream": "stdout",
       "text": [
        "warning: push.default is unset; its implicit value is changing in\r\n",
        "Git 2.0 from 'matching' to 'simple'. To squelch this message\r\n",
        "and maintain the current behavior after the default changes, use:\r\n",
        "\r\n",
        "  git config --global push.default matching\r\n",
        "\r\n",
        "To squelch this message and adopt the new behavior now, use:\r\n",
        "\r\n",
        "  git config --global push.default simple\r\n",
        "\r\n",
        "When push.default is set to 'matching', git will push local branches\r\n",
        "to the remote branches that already exist with the same name.\r\n",
        "\r\n",
        "In Git 2.0, Git will default to the more conservative 'simple'\r\n",
        "behavior, which only pushes the current branch to the corresponding\r\n",
        "remote branch that 'git pull' uses to update the current branch.\r\n",
        "\r\n",
        "See 'git help config' and search for 'push.default' for further information.\r\n",
        "(the 'simple' mode was introduced in Git 1.7.11. Use the similar mode\r\n",
        "'current' instead of 'simple' if you sometimes use older versions of Git)\r\n",
        "\r\n"
       ]
      },
      {
       "output_type": "stream",
       "stream": "stdout",
       "text": [
        "Counting objects: 11, done.\r\n",
        "Delta compression using up to 4 threads.\r\n",
        "Compressing objects:  11% (1/9)   \r",
        "Compressing objects:  22% (2/9)   \r",
        "Compressing objects:  33% (3/9)   \r",
        "Compressing objects:  44% (4/9)   \r",
        "Compressing objects:  55% (5/9)   \r",
        "Compressing objects:  66% (6/9)   \r",
        "Compressing objects:  77% (7/9)   \r",
        "Compressing objects:  88% (8/9)   \r",
        "Compressing objects: 100% (9/9)   \r",
        "Compressing objects: 100% (9/9), done.\r\n",
        "Writing objects:  11% (1/9)   \r",
        "Writing objects:  22% (2/9)   \r",
        "Writing objects:  33% (3/9)   \r",
        "Writing objects:  44% (4/9)   \r",
        "Writing objects:  66% (6/9)   \r",
        "Writing objects:  77% (7/9)   \r",
        "Writing objects:  88% (8/9)   \r",
        "Writing objects: 100% (9/9)   \r",
        "Writing objects: 100% (9/9), 14.53 KiB | 0 bytes/s, done.\r\n",
        "Total 9 (delta 5), reused 0 (delta 0)\r\n"
       ]
      },
      {
       "output_type": "stream",
       "stream": "stdout",
       "text": [
        "To ssh://git@github.com/ProfessorBrunner/lcdm-info\r\n",
        "   1fadb99..3a68e19  master -> master\r\n"
       ]
      }
     ],
     "prompt_number": 4
    }
   ],
   "metadata": {}
  }
 ]
}