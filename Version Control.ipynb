{
 "metadata": {
  "name": "",
  "signature": "sha256:c49681cd2ca37c6fb85f935d9b6382af706288dbccd23afdbae382d38fa702b8"
 },
 "nbformat": 3,
 "nbformat_minor": 0,
 "worksheets": [
  {
   "cells": [
    {
     "cell_type": "markdown",
     "metadata": {},
     "source": [
      "Version Control for the Ipython notebook\n",
      "=========================================\n",
      "\n",
      "This notebook is a public notebook runs on the Openstack vcloud. When it presents a huge advantage of collaboration and sharing, it also requires version management to prevent unwanted deletion and alternation on code base. Versiona control, and in this case **git** should be desirable\n",
      "\n",
      "Currently, I will use my github account as the default setting for the server and it is possible to commit as desired other users but it also requires some extra steps that I think could only be done manually.\n",
      "\n",
      "It shall be very straight forward for those who has used git in command line since ipython notebook provides every magic shell. For those who does not familiar, the sources of such tutorial are abundant and this might be [one of them](https://www.atlassian.com/git/tutorials/) \n",
      "\n",
      "I also provided an example below to show the basic command. However, since it is only meant to commit once, please __do not execute the code below again__.\n",
      "\n",
      "Besides, sometimes output for version control is not desirable, so before commit, it might be better to `Cell`->`All Output`->"
     ]
    }
   ],
   "metadata": {}
  }
 ]
}