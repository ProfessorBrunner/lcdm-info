{
 "metadata": {
  "name": "",
  "signature": "sha256:740151d2e49b9c25086c9d5e0c19c8517d6de63b1c366a01f529267b7de3c6d5"
 },
 "nbformat": 3,
 "nbformat_minor": 0,
 "worksheets": [
  {
   "cells": [
    {
     "cell_type": "heading",
     "level": 1,
     "metadata": {},
     "source": [
      "Usage of ipython notebook"
     ]
    },
    {
     "cell_type": "markdown",
     "metadata": {},
     "source": [
      "The purpose of this notebook is to demostrate the usage of this notebook. The example below is about Stochastic Gradient Decent\n",
      "\n",
      "~~I probably did something wrong with it.~~ It is still in progress"
     ]
    },
    {
     "cell_type": "markdown",
     "metadata": {},
     "source": [
      "The error function for the Gradian Descent to use\n",
      "$$E_r = \\frac{1}{2}\\sum_{n=1}^{N}(w^Tx^{(n)}+w_0-y^{(n)})^2$$\n",
      "\n",
      "And the classification for the function\n",
      "$$C(x) = sign(w^Tx+w_0)$$\n",
      "\n",
      "_Prediction Accuracy_ and _Prediction Error_ are then:\n",
      "$$Acc_p = \\frac{1}{N}\\sum_{n=1}^{N}\\mathbb{I}[C(x^{(n)})=y^{(n)}]$$\n",
      "$$E_p = 1.0-Acc_p$$\n",
      "\n",
      "In this case, we can get the gradiant of the $E_r$\n",
      "$$\\frac{\\partial E_r}{\\partial w_i} = (w^Tx^{(n)}+w_0-y^{(n)})x^{(n)}_i$$\n",
      "$$\\triangledown E_r = (w^Tx^{(n)}+w_0-y^{(n)})x^{(n)}$$"
     ]
    },
    {
     "cell_type": "markdown",
     "metadata": {},
     "source": [
      "So, for all the functions that are useful,\n",
      "the algorithm is described below\n",
      "\n",
      "```\n",
      "Initialise w and choose a updating rate r\n",
      "Randomly shuffle data set\n",
      "For every x, repeat a process:\n",
      "    w = w-r*gradient(Er)\n",
      "```"
     ]
    },
    {
     "cell_type": "code",
     "collapsed": false,
     "input": [
      "from numpy import sign,sum,dot,square,zeros,array,concatenate,ones"
     ],
     "language": "python",
     "metadata": {},
     "outputs": [],
     "prompt_number": 3
    },
    {
     "cell_type": "code",
     "collapsed": false,
     "input": [
      "def C(x,w):\n",
      "    return sign(dot(x,w))"
     ],
     "language": "python",
     "metadata": {},
     "outputs": [],
     "prompt_number": 11
    },
    {
     "cell_type": "code",
     "collapsed": false,
     "input": [
      "def SGD(X,Y):\n",
      "    n,m = X.shape\n",
      "    w = zeros(m)\n",
      "    r = 1e-3\n",
      "    for i in xrange(n):\n",
      "        w -= r*singleErrorGradient(X[i],Y[i],w)\n",
      "        # print w\n",
      "    return w"
     ],
     "language": "python",
     "metadata": {},
     "outputs": [],
     "prompt_number": 2
    },
    {
     "cell_type": "code",
     "collapsed": false,
     "input": [
      "def singleErrorGradient(x,y,w):\n",
      "    return (dot(w,x)-y)*x"
     ],
     "language": "python",
     "metadata": {},
     "outputs": [],
     "prompt_number": 4
    },
    {
     "cell_type": "code",
     "collapsed": false,
     "input": [
      "def error(X,Y,w):\n",
      "    n = len(Y)\n",
      "    return sum([square(dot(w,X[i])-Y[i]) for i in xrange(n)])/float(n)"
     ],
     "language": "python",
     "metadata": {},
     "outputs": [],
     "prompt_number": 5
    },
    {
     "cell_type": "code",
     "collapsed": false,
     "input": [
      "def accp(X,Y,w):\n",
      "    n = len(Y)\n",
      "    return sum([C(X[i],w)==Y[i] for i in xrange(n)])/float(n)"
     ],
     "language": "python",
     "metadata": {},
     "outputs": [],
     "prompt_number": 7
    },
    {
     "cell_type": "markdown",
     "metadata": {},
     "source": [
      "And there are some data from badges"
     ]
    },
    {
     "cell_type": "code",
     "collapsed": false,
     "input": [
      "! head badges.train"
     ],
     "language": "python",
     "metadata": {},
     "outputs": [
      {
       "output_type": "stream",
       "stream": "stdout",
       "text": [
        "1 ivana prince\r\n",
        "-1 xavier ortega\r\n",
        "1 dana slater\r\n",
        "1 toi darling\r\n",
        "1 taylor king\r\n",
        "-1 laurence hays\r\n",
        "-1 matilda crocker\r\n",
        "-1 carrie mckee\r\n",
        "-1 gay obrien\r\n",
        "-1 ester mejia\r\n"
       ]
      }
     ],
     "prompt_number": 2
    },
    {
     "cell_type": "code",
     "collapsed": false,
     "input": [
      "ALPHABET_SPACE = \"abcdefghijklmnopqrstuvwxyz\"\n",
      "POSITION_SPACE = 7\n",
      "def generateFeatures(data):\n",
      "    firstname, lastname = data.lower().split(\" \")[0:2]\n",
      "    features = list()\n",
      "    for pos in xrange(POSITION_SPACE):\n",
      "        for alphabet in ALPHABET_SPACE:\n",
      "            features.append(int(len(firstname)>POSITION_SPACE and firstname[pos]==alphabet))\n",
      "    for pos in xrange(POSITION_SPACE):\n",
      "        for alphabet in ALPHABET_SPACE:\n",
      "            features.append(int(len(lastname)>POSITION_SPACE and lastname[pos]==alphabet))\n",
      "    features.append(len(firstname))\n",
      "    features.append(len(lastname))\n",
      "    return features\n",
      "def readFeatures(input):\n",
      "    \"\"\"\n",
      "    The input is the file for the feature reader\n",
      "    \"\"\"\n",
      "    X = list()\n",
      "    Y = list()\n",
      "    for line in input:\n",
      "        pos = line.find(\" \")\n",
      "        target, data = line[:pos], line[pos+1:]\n",
      "        Y.append(int(target))\n",
      "        X.append(generateFeatures(data))\n",
      "    X = array(X)\n",
      "    Y = array(Y)\n",
      "    return X,Y\n",
      "\n",
      "istream = open(\"badges.train\")\n",
      "X,Y = readFeatures(istream)\n",
      "istream.close()\n",
      "print X[:10]\n",
      "print Y[:10]"
     ],
     "language": "python",
     "metadata": {},
     "outputs": [
      {
       "output_type": "stream",
       "stream": "stdout",
       "text": [
        "[[0 0 0 ..., 0 5 7]\n",
        " [0 0 0 ..., 0 6 7]\n",
        " [0 0 0 ..., 0 4 7]\n",
        " ..., \n",
        " [0 0 0 ..., 0 6 6]\n",
        " [0 0 0 ..., 0 3 7]\n",
        " [0 0 0 ..., 0 5 6]]\n",
        "[ 1 -1  1  1  1 -1 -1 -1 -1 -1]\n"
       ]
      }
     ],
     "prompt_number": 8
    },
    {
     "cell_type": "markdown",
     "metadata": {},
     "source": [
      "And then we can do some operation on it :)"
     ]
    },
    {
     "cell_type": "code",
     "collapsed": false,
     "input": [
      "def addConstantRow(X):\n",
      "    n,m = X.shape\n",
      "    X = concatenate((ones((n,1)),X), axis=1)\n",
      "    return X\n",
      "\n",
      "w = SGD(addConstantRow(X),Y)\n"
     ],
     "language": "python",
     "metadata": {},
     "outputs": [],
     "prompt_number": 9
    },
    {
     "cell_type": "code",
     "collapsed": false,
     "input": [
      "print accp(addConstantRow(X),Y,w)"
     ],
     "language": "python",
     "metadata": {},
     "outputs": [
      {
       "output_type": "stream",
       "stream": "stdout",
       "text": [
        "0.324\n"
       ]
      }
     ],
     "prompt_number": 13
    },
    {
     "cell_type": "markdown",
     "metadata": {},
     "source": [
      "Since I got a quite low result, it is fairly easy to say something has gone wrong. A lot of things has gone wrong..."
     ]
    }
   ],
   "metadata": {}
  }
 ]
}